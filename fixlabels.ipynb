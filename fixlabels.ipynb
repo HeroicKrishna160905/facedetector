{
 "cells": [
  {
   "cell_type": "code",
   "execution_count": 1,
   "id": "2d6d16cc-4c5a-4118-b290-0e101ac99014",
   "metadata": {},
   "outputs": [
    {
     "name": "stdout",
     "output_type": "stream",
     "text": [
      "Updated 3420 label file(s) in ./aug_data\\train/labels\n",
      "Updated 720 label file(s) in ./aug_data\\val/labels\n",
      "Updated 780 label file(s) in ./aug_data\\test/labels\n",
      "All label files processed!\n"
     ]
    }
   ],
   "source": [
    "import os\n",
    "\n",
    "# Set this path to your aug_data directory\n",
    "LABEL_ROOT = './aug_data'  # Use './aug_data' if your notebook is in the ML folder\n",
    "\n",
    "def fix_labels_in_folder(label_dir):\n",
    "    fixed_count = 0\n",
    "    for root, _, files in os.walk(label_dir):\n",
    "        for fname in files:\n",
    "            if fname.endswith('.txt'):\n",
    "                full_path = os.path.join(root, fname)\n",
    "                with open(full_path, 'r') as f:\n",
    "                    lines = f.readlines()\n",
    "                new_lines = []\n",
    "                changed = False\n",
    "                for line in lines:\n",
    "                    parts = line.strip().split()\n",
    "                    if len(parts) == 5 and parts[0] == '0':\n",
    "                        parts[0] = '1'\n",
    "                        changed = True\n",
    "                    new_lines.append(' '.join(parts) + '\\n')\n",
    "                if changed:\n",
    "                    with open(full_path, 'w') as f:\n",
    "                        f.writelines(new_lines)\n",
    "                    fixed_count += 1\n",
    "    print(f\"Updated {fixed_count} label file(s) in {label_dir}\")\n",
    "\n",
    "for folder in ['train/labels', 'val/labels', 'test/labels']:\n",
    "    fix_labels_in_folder(os.path.join(LABEL_ROOT, folder))\n",
    "\n",
    "print(\"All label files processed!\")"
   ]
  },
  {
   "cell_type": "code",
   "execution_count": null,
   "id": "2676f32a-ee51-4e98-a08c-c70d0f4b93e7",
   "metadata": {},
   "outputs": [],
   "source": []
  }
 ],
 "metadata": {
  "kernelspec": {
   "display_name": "Python (tf311)",
   "language": "python",
   "name": "tf311"
  },
  "language_info": {
   "codemirror_mode": {
    "name": "ipython",
    "version": 3
   },
   "file_extension": ".py",
   "mimetype": "text/x-python",
   "name": "python",
   "nbconvert_exporter": "python",
   "pygments_lexer": "ipython3",
   "version": "3.11.9"
  }
 },
 "nbformat": 4,
 "nbformat_minor": 5
}
